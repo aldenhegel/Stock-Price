{
 "cells": [
  {
   "cell_type": "code",
   "execution_count": 1,
   "metadata": {},
   "outputs": [],
   "source": [
    "import requests\n",
    "import pandas as pd\n",
    "import numpy as np"
   ]
  },
  {
   "cell_type": "code",
   "execution_count": 2,
   "metadata": {},
   "outputs": [],
   "source": [
    "def update(company):\n",
    "    \n",
    "#     Request from API Alpha Vantage\n",
    "    url = f'https://www.alphavantage.co/query?function=TIME_SERIES_DAILY&symbol={company}&apikey=JN45H11CRRH8ZZW4'\n",
    "\n",
    "    api_data = requests.get(url)\n",
    "    api_data = api_data.json()\n",
    "\n",
    "    api_data = api_data[\"Time Series (Daily)\"]\n",
    "    \n",
    "#     Create DataFrame\n",
    "    api_df = pd.DataFrame(api_data)\n",
    "    api_df = api_df.transpose()\n",
    "    api_df.index = pd.to_datetime(api_df.index)\n",
    "    api_df.sort_index(inplace=True)\n",
    "    api_df.index.name = 'timestamp'\n",
    "    api_df.rename(columns={'1. open': 'open', '2. high': 'high', '3. low': 'low', '4. close': 'close', '5. volume': 'volume'}, inplace=True)\n",
    "    \n",
    "#     Fetch CSV\n",
    "    csv_df = pd.read_csv(f'{company}.csv', parse_dates=['timestamp'])\n",
    "    csv_df.set_index('timestamp', inplace=True)\n",
    "    csv_df.sort_index(inplace=True)\n",
    "    csv_df[['open', 'high', 'low', 'close', 'volume']] = csv_df[['open', 'high', 'low', 'close', 'volume']].astype('object')\n",
    "    \n",
    "#     Drop Overlapping Data\n",
    "    for index in api_df.index:\n",
    "        if index in csv_df.index:\n",
    "            csv_df.drop(index, inplace=True)\n",
    "    \n",
    "#     Concat CSV and API Data\n",
    "    new_df = pd.concat([csv_df, api_df])\n",
    "    \n",
    "# Update CSV\n",
    "    new_df.to_csv(f'{company}.csv')"
   ]
  },
  {
   "cell_type": "code",
   "execution_count": 3,
   "metadata": {},
   "outputs": [],
   "source": [
    "update('GOOG')"
   ]
  },
  {
   "cell_type": "code",
   "execution_count": 4,
   "metadata": {},
   "outputs": [
    {
     "data": {
      "text/html": [
       "<div>\n",
       "<style scoped>\n",
       "    .dataframe tbody tr th:only-of-type {\n",
       "        vertical-align: middle;\n",
       "    }\n",
       "\n",
       "    .dataframe tbody tr th {\n",
       "        vertical-align: top;\n",
       "    }\n",
       "\n",
       "    .dataframe thead th {\n",
       "        text-align: right;\n",
       "    }\n",
       "</style>\n",
       "<table border=\"1\" class=\"dataframe\">\n",
       "  <thead>\n",
       "    <tr style=\"text-align: right;\">\n",
       "      <th></th>\n",
       "      <th>timestamp</th>\n",
       "      <th>open</th>\n",
       "      <th>high</th>\n",
       "      <th>low</th>\n",
       "      <th>close</th>\n",
       "      <th>volume</th>\n",
       "    </tr>\n",
       "  </thead>\n",
       "  <tbody>\n",
       "    <tr>\n",
       "      <th>1460</th>\n",
       "      <td>2019-10-21</td>\n",
       "      <td>1252.26</td>\n",
       "      <td>1254.629</td>\n",
       "      <td>1240.600</td>\n",
       "      <td>1246.15</td>\n",
       "      <td>1027200</td>\n",
       "    </tr>\n",
       "    <tr>\n",
       "      <th>1461</th>\n",
       "      <td>2019-10-22</td>\n",
       "      <td>1247.85</td>\n",
       "      <td>1250.600</td>\n",
       "      <td>1241.380</td>\n",
       "      <td>1242.80</td>\n",
       "      <td>1023800</td>\n",
       "    </tr>\n",
       "    <tr>\n",
       "      <th>1462</th>\n",
       "      <td>2019-10-23</td>\n",
       "      <td>1242.36</td>\n",
       "      <td>1259.890</td>\n",
       "      <td>1242.360</td>\n",
       "      <td>1259.13</td>\n",
       "      <td>911500</td>\n",
       "    </tr>\n",
       "    <tr>\n",
       "      <th>1463</th>\n",
       "      <td>2019-10-24</td>\n",
       "      <td>1260.90</td>\n",
       "      <td>1264.000</td>\n",
       "      <td>1253.715</td>\n",
       "      <td>1260.99</td>\n",
       "      <td>1028100</td>\n",
       "    </tr>\n",
       "    <tr>\n",
       "      <th>1464</th>\n",
       "      <td>2019-10-25</td>\n",
       "      <td>1251.03</td>\n",
       "      <td>1269.600</td>\n",
       "      <td>1250.010</td>\n",
       "      <td>1265.13</td>\n",
       "      <td>1210100</td>\n",
       "    </tr>\n",
       "  </tbody>\n",
       "</table>\n",
       "</div>"
      ],
      "text/plain": [
       "       timestamp     open      high       low    close   volume\n",
       "1460  2019-10-21  1252.26  1254.629  1240.600  1246.15  1027200\n",
       "1461  2019-10-22  1247.85  1250.600  1241.380  1242.80  1023800\n",
       "1462  2019-10-23  1242.36  1259.890  1242.360  1259.13   911500\n",
       "1463  2019-10-24  1260.90  1264.000  1253.715  1260.99  1028100\n",
       "1464  2019-10-25  1251.03  1269.600  1250.010  1265.13  1210100"
      ]
     },
     "execution_count": 4,
     "metadata": {},
     "output_type": "execute_result"
    }
   ],
   "source": [
    "pd.read_csv('GOOG.csv').tail()"
   ]
  },
  {
   "cell_type": "code",
   "execution_count": null,
   "metadata": {},
   "outputs": [],
   "source": []
  }
 ],
 "metadata": {
  "kernelspec": {
   "display_name": "Python 3",
   "language": "python",
   "name": "python3"
  },
  "language_info": {
   "codemirror_mode": {
    "name": "ipython",
    "version": 3
   },
   "file_extension": ".py",
   "mimetype": "text/x-python",
   "name": "python",
   "nbconvert_exporter": "python",
   "pygments_lexer": "ipython3",
   "version": "3.7.4"
  }
 },
 "nbformat": 4,
 "nbformat_minor": 4
}
